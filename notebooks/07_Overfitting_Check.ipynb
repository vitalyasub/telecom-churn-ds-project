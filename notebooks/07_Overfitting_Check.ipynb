{
 "cells": [
  {
   "cell_type": "markdown",
   "id": "15b6dec4",
   "metadata": {},
   "source": [
    "# 🤖 07_Overfitting_Check — Перевірка переобучення моделі\n",
    "# Project: Прогнозування Відтоку Клієнтів\n",
    "# Team Lead: Vitalii Subbotin\n",
    "# Date: 2025-10-15\n",
    "# ---------------------------------------------"
   ]
  },
  {
   "cell_type": "code",
   "execution_count": 1,
   "id": "5723b885",
   "metadata": {},
   "outputs": [],
   "source": [
    "# 1. Імпорт бібліотек\n",
    "import os\n",
    "import joblib\n",
    "import numpy as np\n",
    "import pandas as pd\n",
    "import matplotlib.pyplot as plt\n",
    "import seaborn as sns\n",
    "from pathlib import Path\n",
    "from sklearn.metrics import roc_auc_score\n",
    "\n",
    "sns.set(style=\"whitegrid\")"
   ]
  },
  {
   "cell_type": "code",
   "execution_count": 2,
   "id": "18c93905",
   "metadata": {},
   "outputs": [],
   "source": [
    "# 2. Шляхи\n",
    "BASE_DIR = Path(\"..\")\n",
    "DATA_PATH = BASE_DIR / \"data\" / \"df1_mean.csv\"\n",
    "MODELS_DIR = BASE_DIR / \"models\"\n",
    "MODEL_PATH = MODELS_DIR / \"best_model_lgb.pkl\"\n",
    "SCALER_PATH = MODELS_DIR / \"scaler_clean.pkl\""
   ]
  },
  {
   "cell_type": "code",
   "execution_count": 3,
   "id": "ee84b2d5",
   "metadata": {},
   "outputs": [
    {
     "name": "stdout",
     "output_type": "stream",
     "text": [
      "✅ Модель і scaler успішно завантажено.\n"
     ]
    }
   ],
   "source": [
    "# 3. Завантаження даних і моделі\n",
    "df = pd.read_csv(DATA_PATH)\n",
    "if 'id' in df.columns:\n",
    "    df.drop(columns=['id'], inplace=True)\n",
    "if 'Churn' in df.columns and 'churn' not in df.columns:\n",
    "    df.rename(columns={'Churn': 'churn'}, inplace=True)\n",
    "\n",
    "X = df.drop(columns=['churn'])\n",
    "y = df['churn']\n",
    "\n",
    "scaler = joblib.load(SCALER_PATH)\n",
    "model = joblib.load(MODEL_PATH)\n",
    "print(\"✅ Модель і scaler успішно завантажено.\")"
   ]
  },
  {
   "cell_type": "code",
   "execution_count": 4,
   "id": "fd30a05e",
   "metadata": {},
   "outputs": [],
   "source": [
    "# 4. Розділення на train/test\n",
    "from sklearn.model_selection import train_test_split\n",
    "X_train, X_test, y_train, y_test = train_test_split(\n",
    "    X, y, test_size=0.2, stratify=y, random_state=42\n",
    ")\n",
    "\n",
    "binary_cols = [c for c in X.columns if X[c].nunique() <= 2]\n",
    "num_cols = X.select_dtypes(include=[np.number]).columns.tolist()\n",
    "cols_to_scale = [c for c in num_cols if c not in binary_cols]\n",
    "\n",
    "X_train_scaled = X_train.copy()\n",
    "X_test_scaled = X_test.copy()\n",
    "\n",
    "X_train_scaled[cols_to_scale] = scaler.transform(X_train[cols_to_scale])\n",
    "X_test_scaled[cols_to_scale] = scaler.transform(X_test[cols_to_scale])"
   ]
  },
  {
   "cell_type": "code",
   "execution_count": 5,
   "id": "84f06551",
   "metadata": {},
   "outputs": [
    {
     "name": "stdout",
     "output_type": "stream",
     "text": [
      "\n",
      "ROC-AUC Train: 0.9911\n",
      "ROC-AUC Test : 0.9920\n",
      "Різниця (train - test): -0.0009\n"
     ]
    }
   ],
   "source": [
    "# 5. Обчислення ROC-AUC на train і test\n",
    "import os\n",
    "os.environ[\"LOKY_MAX_CPU_COUNT\"] = \"8\"  # або кількість твоїх фізичних ядер\n",
    "\n",
    "y_train_pred = model.predict(X_train_scaled)\n",
    "y_train_proba = model.predict_proba(X_train_scaled)[:, 1]\n",
    "\n",
    "y_test_pred = model.predict(X_test_scaled)\n",
    "y_test_proba = model.predict_proba(X_test_scaled)[:, 1]\n",
    "\n",
    "roc_train = roc_auc_score(y_train, y_train_proba)\n",
    "roc_test = roc_auc_score(y_test, y_test_proba)\n",
    "\n",
    "print(f\"\\nROC-AUC Train: {roc_train:.4f}\")\n",
    "print(f\"ROC-AUC Test : {roc_test:.4f}\")\n",
    "print(f\"Різниця (train - test): {roc_train - roc_test:.4f}\")"
   ]
  },
  {
   "cell_type": "code",
   "execution_count": 6,
   "id": "18f6aceb",
   "metadata": {},
   "outputs": [
    {
     "data": {
      "image/png": "[encoded data removed]",
      "text/plain": [
       "<Figure size 500x400 with 1 Axes>"
      ]
     },
     "metadata": {},
     "output_type": "display_data"
    }
   ],
   "source": [
    "# 6. Візуалізація\n",
    "x_vals = [\"Train\", \"Test\"]\n",
    "y_vals = [roc_train, roc_test]\n",
    "\n",
    "plt.figure(figsize=(5,4))\n",
    "sns.barplot(x=x_vals, y=y_vals, hue=x_vals, palette=\"coolwarm\", legend=False)\n",
    "plt.title(\"Порівняння ROC-AUC на Train/Test\", fontsize=12, fontweight=\"bold\")\n",
    "plt.ylabel(\"ROC-AUC\")\n",
    "plt.ylim(0.9, 1.0)\n",
    "plt.show()"
   ]
  },
  {
   "cell_type": "code",
   "execution_count": 7,
   "id": "7c66b295-87ee-4306-8285-2619d5c0f02f",
   "metadata": {},
   "outputs": [
    {
     "name": "stdout",
     "output_type": "stream",
     "text": [
      "✅ Модель збалансована — переобучення відсутнє або мінімальне.\n"
     ]
    }
   ],
   "source": [
    "# 7. Висновок\n",
    "diff = roc_train - roc_test\n",
    "if diff < 0.01:\n",
    "    print(\"✅ Модель збалансована — переобучення відсутнє або мінімальне.\")\n",
    "elif diff < 0.03:\n",
    "    print(\"⚠️ Невелике переобучення, але в межах норми.\")\n",
    "else:\n",
    "    print(\"🚨 Імовірне переобучення — модель занадто добре працює на train.\")"
   ]
  },
  {
   "cell_type": "code",
   "execution_count": null,
   "id": "44b28394-00f8-4f1b-801b-97b3dd6a9607",
   "metadata": {},
   "outputs": [],
   "source": []
  }
 ],
 "metadata": {
  "kernelspec": {
   "display_name": "Python 3 (ipykernel)",
   "language": "python",
   "name": "python3"
  },
  "language_info": {
   "codemirror_mode": {
    "name": "ipython",
    "version": 3
   },
   "file_extension": ".py",
   "mimetype": "text/x-python",
   "name": "python",
   "nbconvert_exporter": "python",
   "pygments_lexer": "ipython3",
   "version": "3.12.3"
  }
 },
 "nbformat": 4,
 "nbformat_minor": 5
}
