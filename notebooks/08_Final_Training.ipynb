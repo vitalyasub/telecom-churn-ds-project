{
 "cells": [
  {
   "cell_type": "markdown",
   "id": "15b6dec4",
   "metadata": {},
   "source": [
    "# 🤖 08_Final_Training — Фінальне донавчання моделі LightGBM\n",
    "# Project: Прогнозування Відтоку Клієнтів\n",
    "# Team Lead: Vitalii Subbotin\n",
    "# Date: 2025-10-16"
   ]
  },
  {
   "cell_type": "code",
   "execution_count": 8,
   "id": "5723b885",
   "metadata": {},
   "outputs": [],
   "source": [
    "# 1. Імпорт бібліотек\n",
    "import pandas as pd\n",
    "import numpy as np\n",
    "import joblib\n",
    "from pathlib import Path\n",
    "from lightgbm import LGBMClassifier\n",
    "from sklearn.model_selection import train_test_split\n",
    "from sklearn.preprocessing import StandardScaler"
   ]
  },
  {
   "cell_type": "code",
   "execution_count": 9,
   "id": "18c93905",
   "metadata": {},
   "outputs": [
    {
     "name": "stdout",
     "output_type": "stream",
     "text": [
      "📂 DATA_PATH -> ..\\data\\df1_mean.csv\n"
     ]
    }
   ],
   "source": [
    "# 2. Шляхи\n",
    "BASE_DIR = Path(\"..\")\n",
    "DATA_PATH = BASE_DIR / \"data\" / \"df1_mean.csv\"\n",
    "MODELS_DIR = BASE_DIR / \"models\"\n",
    "MODELS_DIR.mkdir(parents=True, exist_ok=True)\n",
    "\n",
    "print(\"📂 DATA_PATH ->\", DATA_PATH)"
   ]
  },
  {
   "cell_type": "code",
   "execution_count": 10,
   "id": "ee84b2d5",
   "metadata": {},
   "outputs": [],
   "source": [
    "# 3. Завантаження та базова обробка даних\n",
    "df = pd.read_csv(DATA_PATH)\n",
    "\n",
    "if 'id' in df.columns:\n",
    "    df.drop(columns=['id'], inplace=True)\n",
    "if 'Churn' in df.columns and 'churn' not in df.columns:\n",
    "    df.rename(columns={'Churn': 'churn'}, inplace=True)"
   ]
  },
  {
   "cell_type": "code",
   "execution_count": 11,
   "id": "fd30a05e",
   "metadata": {},
   "outputs": [],
   "source": [
    "# 4. Перетворення категорій на 0/1\n",
    "for col in df.columns:\n",
    "    if df[col].dtype == 'object':\n",
    "        df[col] = df[col].replace({'Так': 1, 'Ні': 0}).astype(int)\n",
    "\n",
    "X = df.drop(columns=['churn'])\n",
    "y = df['churn']"
   ]
  },
  {
   "cell_type": "code",
   "execution_count": 12,
   "id": "84f06551",
   "metadata": {},
   "outputs": [
    {
     "name": "stdout",
     "output_type": "stream",
     "text": [
      "✅ Train+Val shape: (57514, 10) | Holdout shape: (14379, 10)\n"
     ]
    }
   ],
   "source": [
    "# 5. Holdout split\n",
    "X_trainval, X_holdout, y_trainval, y_holdout = train_test_split(\n",
    "    X, y, test_size=0.2, stratify=y, random_state=42\n",
    ")\n",
    "print(f\"✅ Train+Val shape: {X_trainval.shape} | Holdout shape: {X_holdout.shape}\")"
   ]
  },
  {
   "cell_type": "code",
   "execution_count": 13,
   "id": "18f6aceb",
   "metadata": {},
   "outputs": [],
   "source": [
    "# 6. Масштабування всіх числових ознак\n",
    "scaler = StandardScaler()\n",
    "scaler.fit(X_trainval)\n",
    "\n",
    "X_trainval_scaled = pd.DataFrame(scaler.transform(X_trainval), columns=X_trainval.columns)\n",
    "X_holdout_scaled = pd.DataFrame(scaler.transform(X_holdout), columns=X_holdout.columns)"
   ]
  },
  {
   "cell_type": "code",
   "execution_count": 14,
   "id": "7c66b295-87ee-4306-8285-2619d5c0f02f",
   "metadata": {},
   "outputs": [
    {
     "name": "stdout",
     "output_type": "stream",
     "text": [
      "✅ Модель LightGBM донавчено на повному train+val наборі.\n"
     ]
    }
   ],
   "source": [
    "# 7. Модель LightGBM\n",
    "best_params = {\n",
    "    'n_estimators': 300,\n",
    "    'learning_rate': 0.05,\n",
    "    'max_depth': -1,\n",
    "    'num_leaves': 63,\n",
    "    'subsample': 0.8,\n",
    "    'random_state': 42,\n",
    "    'n_jobs': -1,\n",
    "    'verbose': -1\n",
    "}\n",
    "\n",
    "model = LGBMClassifier(**best_params)\n",
    "model.fit(X_trainval_scaled, y_trainval)\n",
    "\n",
    "print(\"✅ Модель LightGBM донавчено на повному train+val наборі.\")"
   ]
  },
  {
   "cell_type": "code",
   "execution_count": 15,
   "id": "44b28394-00f8-4f1b-801b-97b3dd6a9607",
   "metadata": {},
   "outputs": [
    {
     "name": "stdout",
     "output_type": "stream",
     "text": [
      "💾 Збережено артефакти у папку: ..\\models\n",
      "📦 Скалер тепер має: 10 ознак.\n",
      "✅ Ознаки: ['is_tv_subscriber' 'is_movie_package_subscriber' 'subscription_age'\n",
      " 'bill_avg' 'reamining_contract' 'service_failure_count' 'download_avg'\n",
      " 'upload_avg' 'download_over_limit' 'reamining_contract_missing']\n"
     ]
    }
   ],
   "source": [
    "# 8. Збереження артефактів\n",
    "joblib.dump(model, MODELS_DIR / \"best_model_lgb.pkl\")\n",
    "joblib.dump(scaler, MODELS_DIR / \"scaler.pkl\")\n",
    "\n",
    "X_holdout_scaled.to_csv(MODELS_DIR / \"X_holdout.csv\", index=False)\n",
    "y_holdout.to_csv(MODELS_DIR / \"y_holdout.csv\", index=False)\n",
    "\n",
    "print(\"💾 Збережено артефакти у папку:\", MODELS_DIR)\n",
    "print(\"📦 Скалер тепер має:\", len(scaler.feature_names_in_), \"ознак.\")\n",
    "print(\"✅ Ознаки:\", scaler.feature_names_in_)"
   ]
  },
  {
   "cell_type": "code",
   "execution_count": null,
   "id": "526b9190-0ef4-4fee-a619-2a1621255176",
   "metadata": {},
   "outputs": [],
   "source": []
  }
 ],
 "metadata": {
  "kernelspec": {
   "display_name": "Python 3 (ipykernel)",
   "language": "python",
   "name": "python3"
  },
  "language_info": {
   "codemirror_mode": {
    "name": "ipython",
    "version": 3
   },
   "file_extension": ".py",
   "mimetype": "text/x-python",
   "name": "python",
   "nbconvert_exporter": "python",
   "pygments_lexer": "ipython3",
   "version": "3.12.3"
  }
 },
 "nbformat": 4,
 "nbformat_minor": 5
}
