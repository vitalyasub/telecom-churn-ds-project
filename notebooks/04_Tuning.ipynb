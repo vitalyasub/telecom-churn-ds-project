{
 "cells": [
  {
   "cell_type": "markdown",
   "id": "15b6dec4",
   "metadata": {},
   "source": [
    "# 🤖 04_Hyperparameter_Tuning — Оптимізація гіперпараметрів\n",
    "# Project: Прогнозування Відтоку Клієнтів\n",
    "# Team Lead: Vitalii Subbotin\n",
    "# Date: 2025-10-15"
   ]
  },
  {
   "cell_type": "code",
   "execution_count": 1,
   "id": "5723b885",
   "metadata": {},
   "outputs": [],
   "source": [
    "# 1. Імпорт бібліотек і налаштування середовища\n",
    "import os\n",
    "import warnings\n",
    "import time\n",
    "warnings.filterwarnings('ignore')\n",
    "\n",
    "\n",
    "import numpy as np\n",
    "import pandas as pd\n",
    "import matplotlib.pyplot as plt\n",
    "import seaborn as sns\n",
    "sns.set(style=\"whitegrid\")\n",
    "\n",
    "\n",
    "from pathlib import Path\n",
    "from sklearn.model_selection import GridSearchCV, train_test_split\n",
    "from sklearn.preprocessing import StandardScaler\n",
    "from sklearn.metrics import roc_auc_score\n",
    "\n",
    "\n",
    "# Models\n",
    "from sklearn.ensemble import RandomForestClassifier\n",
    "from xgboost import XGBClassifier\n",
    "from lightgbm import LGBMClassifier\n"
   ]
  },
  {
   "cell_type": "code",
   "execution_count": 2,
   "id": "18c93905",
   "metadata": {},
   "outputs": [
    {
     "name": "stdout",
     "output_type": "stream",
     "text": [
      "DATA_PATH -> ..\\data\\df1_mean.csv\n"
     ]
    }
   ],
   "source": [
    "# 2. Налаштування шляхів і констант\n",
    "BASE_DIR = Path(\"..\")\n",
    "DATA_DIR = BASE_DIR / \"data\"\n",
    "MODELS_DIR = BASE_DIR / \"models\"\n",
    "MODELS_DIR.mkdir(parents=True, exist_ok=True)\n",
    "\n",
    "\n",
    "DATA_PATH = DATA_DIR / \"df1_mean.csv\"\n",
    "RANDOM_STATE = 42\n",
    "\n",
    "print(\"DATA_PATH ->\", DATA_PATH)\n"
   ]
  },
  {
   "cell_type": "code",
   "execution_count": 4,
   "id": "ee84b2d5",
   "metadata": {},
   "outputs": [
    {
     "name": "stdout",
     "output_type": "stream",
     "text": [
      "Розмір датасету: (71893, 12)\n"
     ]
    }
   ],
   "source": [
    "# 3. Завантаження даних\n",
    "df = pd.read_csv(DATA_PATH)\n",
    "print(\"Розмір датасету:\", df.shape)\n",
    "\n",
    "\n",
    "if 'id' in df.columns:\n",
    "    df = df.drop(columns=['id'])\n",
    "if 'churn' not in df.columns and 'Churn' in df.columns:\n",
    "    df.rename(columns={'Churn': 'churn'}, inplace=True)\n",
    "\n",
    "\n",
    "X = df.drop(columns=['churn'])\n",
    "y = df['churn']\n",
    "\n",
    "\n",
    "X_train, X_test, y_train, y_test = train_test_split(\n",
    "    X, y, test_size=0.2, stratify=y, random_state=RANDOM_STATE\n",
    ")\n",
    "\n",
    "\n",
    "# Масштабування\n",
    "scaler = StandardScaler()\n",
    "X_train_scaled = scaler.fit_transform(X_train)\n",
    "X_test_scaled = scaler.transform(X_test)"
   ]
  },
  {
   "cell_type": "code",
   "execution_count": 5,
   "id": "fd30a05e",
   "metadata": {},
   "outputs": [
    {
     "name": "stdout",
     "output_type": "stream",
     "text": [
      "Fitting 3 folds for each of 216 candidates, totalling 648 fits\n"
     ]
    },
    {
     "name": "stderr",
     "output_type": "stream",
     "text": [
      "  File \"C:\\Users\\User\\anaconda3\\Lib\\site-packages\\joblib\\externals\\loky\\backend\\context.py\", line 257, in _count_physical_cores\n",
      "    cpu_info = subprocess.run(\n",
      "               ^^^^^^^^^^^^^^^\n",
      "  File \"C:\\Users\\User\\anaconda3\\Lib\\subprocess.py\", line 548, in run\n",
      "    with Popen(*popenargs, **kwargs) as process:\n",
      "         ^^^^^^^^^^^^^^^^^^^^^^^^^^^\n",
      "  File \"C:\\Users\\User\\anaconda3\\Lib\\subprocess.py\", line 1026, in __init__\n",
      "    self._execute_child(args, executable, preexec_fn, close_fds,\n",
      "  File \"C:\\Users\\User\\anaconda3\\Lib\\subprocess.py\", line 1538, in _execute_child\n",
      "    hp, ht, pid, tid = _winapi.CreateProcess(executable, args,\n",
      "                       ^^^^^^^^^^^^^^^^^^^^^^^^^^^^^^^^^^^^^^^\n"
     ]
    },
    {
     "name": "stdout",
     "output_type": "stream",
     "text": [
      "\n",
      "✅ Найкращі параметри LightGBM: {'learning_rate': 0.05, 'max_depth': -1, 'n_estimators': 300, 'num_leaves': 63, 'subsample': 0.8}\n",
      "ROC-AUC: 0.9819942635691806\n"
     ]
    }
   ],
   "source": [
    "# 4. GridSearchCV для LightGBM\n",
    "param_grid_lgb = {\n",
    "    'n_estimators': [100, 200, 300],\n",
    "    'learning_rate': [0.01, 0.05, 0.1],\n",
    "    'max_depth': [3, 5, 7, -1],\n",
    "    'num_leaves': [15, 31, 63],\n",
    "    'subsample': [0.8, 1.0]\n",
    "}\n",
    "\n",
    "\n",
    "grid_lgb = GridSearchCV(\n",
    "    estimator=LGBMClassifier(random_state=RANDOM_STATE, force_row_wise=True, verbose=-1),\n",
    "    param_grid=param_grid_lgb,\n",
    "    scoring='roc_auc',\n",
    "    cv=3,\n",
    "    n_jobs=-1,\n",
    "    verbose=2\n",
    ")\n",
    "\n",
    "\n",
    "grid_lgb.fit(X_train_scaled, y_train)\n",
    "print(\"\\n✅ Найкращі параметри LightGBM:\", grid_lgb.best_params_)\n",
    "print(\"ROC-AUC:\", grid_lgb.best_score_)"
   ]
  },
  {
   "cell_type": "code",
   "execution_count": 6,
   "id": "84f06551",
   "metadata": {},
   "outputs": [
    {
     "name": "stdout",
     "output_type": "stream",
     "text": [
      "Fitting 3 folds for each of 24 candidates, totalling 72 fits\n",
      "\n",
      "✅ Найкращі параметри XGBoost: {'learning_rate': 0.1, 'max_depth': 7, 'n_estimators': 200, 'subsample': 1.0}\n",
      "ROC-AUC: 0.9813205786271485\n"
     ]
    }
   ],
   "source": [
    "# 5. GridSearchCV для XGBoost\n",
    "param_grid_xgb = {\n",
    "    'n_estimators': [100, 200],\n",
    "    'max_depth': [3, 5, 7],\n",
    "    'learning_rate': [0.05, 0.1],\n",
    "    'subsample': [0.8, 1.0]\n",
    "}\n",
    "\n",
    "\n",
    "grid_xgb = GridSearchCV(\n",
    "    estimator=XGBClassifier(use_label_encoder=False, eval_metric='logloss', random_state=RANDOM_STATE),\n",
    "    param_grid=param_grid_xgb,\n",
    "    scoring='roc_auc',\n",
    "    cv=3,\n",
    "    n_jobs=-1,\n",
    "    verbose=2\n",
    ")\n",
    "\n",
    "\n",
    "grid_xgb.fit(X_train_scaled, y_train)\n",
    "print(\"\\n✅ Найкращі параметри XGBoost:\", grid_xgb.best_params_)\n",
    "print(\"ROC-AUC:\", grid_xgb.best_score_)"
   ]
  },
  {
   "cell_type": "code",
   "execution_count": 7,
   "id": "18f6aceb",
   "metadata": {},
   "outputs": [
    {
     "name": "stdout",
     "output_type": "stream",
     "text": [
      "Fitting 3 folds for each of 36 candidates, totalling 108 fits\n",
      "\n",
      "✅ Найкращі параметри RandomForest: {'max_depth': None, 'min_samples_leaf': 2, 'min_samples_split': 2, 'n_estimators': 300}\n",
      "ROC-AUC: 0.9807987269880069\n"
     ]
    }
   ],
   "source": [
    "# 6. GridSearchCV для RandomForest\n",
    "param_grid_rf = {\n",
    "    'n_estimators': [100, 200, 300],\n",
    "    'max_depth': [5, 10, None],\n",
    "    'min_samples_split': [2, 5],\n",
    "    'min_samples_leaf': [1, 2]\n",
    "}\n",
    "\n",
    "\n",
    "grid_rf = GridSearchCV(\n",
    "    estimator=RandomForestClassifier(random_state=RANDOM_STATE, n_jobs=-1),\n",
    "    param_grid=param_grid_rf,\n",
    "    scoring='roc_auc',\n",
    "    cv=3,\n",
    "    n_jobs=-1,\n",
    "    verbose=2\n",
    ")\n",
    "\n",
    "\n",
    "grid_rf.fit(X_train_scaled, y_train)\n",
    "print(\"\\n✅ Найкращі параметри RandomForest:\", grid_rf.best_params_)\n",
    "print(\"ROC-AUC:\", grid_rf.best_score_)"
   ]
  },
  {
   "cell_type": "code",
   "execution_count": 8,
   "id": "f82616e0-138a-414e-9312-efcd848972b6",
   "metadata": {},
   "outputs": [
    {
     "name": "stdout",
     "output_type": "stream",
     "text": [
      "\n",
      "📊 Результати оптимізації:\n"
     ]
    },
    {
     "data": {
      "text/html": [
       "<div>\n",
       "<style scoped>\n",
       "    .dataframe tbody tr th:only-of-type {\n",
       "        vertical-align: middle;\n",
       "    }\n",
       "\n",
       "    .dataframe tbody tr th {\n",
       "        vertical-align: top;\n",
       "    }\n",
       "\n",
       "    .dataframe thead th {\n",
       "        text-align: right;\n",
       "    }\n",
       "</style>\n",
       "<table border=\"1\" class=\"dataframe\">\n",
       "  <thead>\n",
       "    <tr style=\"text-align: right;\">\n",
       "      <th></th>\n",
       "      <th>model</th>\n",
       "      <th>best_params</th>\n",
       "      <th>best_score</th>\n",
       "    </tr>\n",
       "  </thead>\n",
       "  <tbody>\n",
       "    <tr>\n",
       "      <th>0</th>\n",
       "      <td>LightGBM</td>\n",
       "      <td>{'learning_rate': 0.05, 'max_depth': -1, 'n_es...</td>\n",
       "      <td>0.981994</td>\n",
       "    </tr>\n",
       "    <tr>\n",
       "      <th>1</th>\n",
       "      <td>XGBoost</td>\n",
       "      <td>{'learning_rate': 0.1, 'max_depth': 7, 'n_esti...</td>\n",
       "      <td>0.981321</td>\n",
       "    </tr>\n",
       "    <tr>\n",
       "      <th>2</th>\n",
       "      <td>RandomForest</td>\n",
       "      <td>{'max_depth': None, 'min_samples_leaf': 2, 'mi...</td>\n",
       "      <td>0.980799</td>\n",
       "    </tr>\n",
       "  </tbody>\n",
       "</table>\n",
       "</div>"
      ],
      "text/plain": [
       "          model                                        best_params  best_score\n",
       "0      LightGBM  {'learning_rate': 0.05, 'max_depth': -1, 'n_es...    0.981994\n",
       "1       XGBoost  {'learning_rate': 0.1, 'max_depth': 7, 'n_esti...    0.981321\n",
       "2  RandomForest  {'max_depth': None, 'min_samples_leaf': 2, 'mi...    0.980799"
      ]
     },
     "metadata": {},
     "output_type": "display_data"
    },
    {
     "name": "stdout",
     "output_type": "stream",
     "text": [
      "✅ Збережено tuning_summary.csv у папці models\n"
     ]
    }
   ],
   "source": [
    "# 7. Порівняння результатів\n",
    "tuning_results = pd.DataFrame([\n",
    "    {\"model\": \"LightGBM\", \"best_params\": grid_lgb.best_params_, \"best_score\": grid_lgb.best_score_},\n",
    "    {\"model\": \"XGBoost\", \"best_params\": grid_xgb.best_params_, \"best_score\": grid_xgb.best_score_},\n",
    "    {\"model\": \"RandomForest\", \"best_params\": grid_rf.best_params_, \"best_score\": grid_rf.best_score_}\n",
    "])\n",
    "\n",
    "\n",
    "print(\"\\n📊 Результати оптимізації:\")\n",
    "display(tuning_results)\n",
    "\n",
    "\n",
    "tuning_results.to_csv(MODELS_DIR / \"tuning_summary.csv\", index=False)\n",
    "print(\"✅ Збережено tuning_summary.csv у папці models\")"
   ]
  },
  {
   "cell_type": "code",
   "execution_count": 9,
   "id": "9a3b2c3f-8a6b-4cd3-b87f-f955f77c1664",
   "metadata": {},
   "outputs": [
    {
     "name": "stdout",
     "output_type": "stream",
     "text": [
      "\n",
      "📌 Висновок:\n",
      " - Проведено GridSearchCV для трьох моделей (LightGBM, XGBoost, RandomForest)\n",
      " - Найкраща модель за ROC-AUC: LightGBM\n",
      " - Результати збережено для подальшого використання\n"
     ]
    }
   ],
   "source": [
    "# 8. Висновки\n",
    "print(\"\\n📌 Висновок:\")\n",
    "print(\" - Проведено GridSearchCV для трьох моделей (LightGBM, XGBoost, RandomForest)\")\n",
    "print(\" - Найкраща модель за ROC-AUC:\", tuning_results.sort_values(by='best_score', ascending=False).iloc[0]['model'])\n",
    "print(\" - Результати збережено для подальшого використання\")"
   ]
  },
  {
   "cell_type": "code",
   "execution_count": null,
   "id": "6b7f3d4d-a74d-452f-a700-713673476eee",
   "metadata": {},
   "outputs": [],
   "source": []
  }
 ],
 "metadata": {
  "kernelspec": {
   "display_name": "Python 3 (ipykernel)",
   "language": "python",
   "name": "python3"
  },
  "language_info": {
   "codemirror_mode": {
    "name": "ipython",
    "version": 3
   },
   "file_extension": ".py",
   "mimetype": "text/x-python",
   "name": "python",
   "nbconvert_exporter": "python",
   "pygments_lexer": "ipython3",
   "version": "3.12.3"
  }
 },
 "nbformat": 4,
 "nbformat_minor": 5
}
