{
 "cells": [
  {
   "cell_type": "markdown",
   "id": "15b6dec4",
   "metadata": {},
   "source": [
    "# 🤖 05_Final_Model_Training — Фінальне донавчання моделі\n",
    "# Project: Прогнозування Відтоку Клієнтів\n",
    "# Team Lead: Vitalii Subbotin\n",
    "# Date: 2025-10-15"
   ]
  },
  {
   "cell_type": "code",
   "execution_count": 6,
   "id": "5723b885",
   "metadata": {},
   "outputs": [],
   "source": [
    "# 1. Імпорт бібліотек\n",
    "import os\n",
    "import joblib\n",
    "import pandas as pd\n",
    "import numpy as np\n",
    "from pathlib import Path\n",
    "from lightgbm import LGBMClassifier\n",
    "from sklearn.preprocessing import StandardScaler\n"
   ]
  },
  {
   "cell_type": "code",
   "execution_count": 7,
   "id": "18c93905",
   "metadata": {},
   "outputs": [
    {
     "name": "stdout",
     "output_type": "stream",
     "text": [
      "DATA_PATH -> ..\\data\\df1_mean.csv\n",
      "MODELS_DIR -> ..\\models\n"
     ]
    }
   ],
   "source": [
    "# 2. Налаштування шляхів\n",
    "BASE_DIR = Path(\"..\")\n",
    "DATA_PATH = BASE_DIR / \"data\" / \"df1_mean.csv\"\n",
    "MODELS_DIR = BASE_DIR / \"models\"\n",
    "MODELS_DIR.mkdir(parents=True, exist_ok=True)\n",
    "\n",
    "print(f\"DATA_PATH -> {DATA_PATH}\")\n",
    "print(f\"MODELS_DIR -> {MODELS_DIR}\")\n"
   ]
  },
  {
   "cell_type": "code",
   "execution_count": 8,
   "id": "ee84b2d5",
   "metadata": {},
   "outputs": [
    {
     "name": "stdout",
     "output_type": "stream",
     "text": [
      "Розмір датасету: (71893, 12)\n"
     ]
    }
   ],
   "source": [
    "# 3. Завантаження даних\n",
    "df = pd.read_csv(DATA_PATH)\n",
    "print(\"Розмір датасету:\", df.shape)\n",
    "\n",
    "if 'id' in df.columns:\n",
    "    df.drop(columns=['id'], inplace=True)\n",
    "if 'Churn' in df.columns and 'churn' not in df.columns:\n",
    "    df.rename(columns={'Churn': 'churn'}, inplace=True)\n",
    "\n",
    "X = df.drop(columns=['churn'])\n",
    "y = df['churn']"
   ]
  },
  {
   "cell_type": "code",
   "execution_count": 9,
   "id": "fd30a05e",
   "metadata": {},
   "outputs": [
    {
     "name": "stdout",
     "output_type": "stream",
     "text": [
      "✅ Scaler збережено у: ..\\models\\scaler.pkl\n"
     ]
    }
   ],
   "source": [
    "# 4. Масштабування числових ознак\n",
    "binary_cols = [c for c in X.columns if X[c].nunique() <= 2]\n",
    "num_cols = X.select_dtypes(include=[np.number]).columns.tolist()\n",
    "cols_to_scale = [c for c in num_cols if c not in binary_cols]\n",
    "\n",
    "scaler = StandardScaler()\n",
    "X_scaled = X.copy()\n",
    "X_scaled[cols_to_scale] = scaler.fit_transform(X[cols_to_scale])\n",
    "\n",
    "scaler_path = MODELS_DIR / \"scaler.pkl\"\n",
    "joblib.dump(scaler, scaler_path)\n",
    "print(f\"✅ Scaler збережено у: {scaler_path}\")"
   ]
  },
  {
   "cell_type": "code",
   "execution_count": 10,
   "id": "84f06551",
   "metadata": {},
   "outputs": [
    {
     "name": "stdout",
     "output_type": "stream",
     "text": [
      "✅ Модель збережено у: ..\\models\\best_model_lgb.pkl\n"
     ]
    }
   ],
   "source": [
    "# 5. Навчання фінальної моделі LightGBM\n",
    "best_params = {\n",
    "    \"learning_rate\": 0.05,\n",
    "    \"max_depth\": -1,\n",
    "    \"n_estimators\": 300,\n",
    "    \"num_leaves\": 63,\n",
    "    \"subsample\": 0.8,\n",
    "    \"random_state\": 42,\n",
    "    \"force_row_wise\": True,\n",
    "    \"verbose\": -1\n",
    "}\n",
    "\n",
    "model = LGBMClassifier(**best_params)\n",
    "model.fit(X_scaled, y)\n",
    "\n",
    "model_path = MODELS_DIR / \"best_model_lgb.pkl\"\n",
    "joblib.dump(model, model_path)\n",
    "print(f\"✅ Модель збережено у: {model_path}\")"
   ]
  },
  {
   "cell_type": "code",
   "execution_count": 11,
   "id": "18f6aceb",
   "metadata": {},
   "outputs": [
    {
     "name": "stdout",
     "output_type": "stream",
     "text": [
      "\n",
      "Приклад прогнозів: [0 1 1 1 1 0 1 1 1 1]\n",
      "Ймовірності: [0.006 0.997 0.998 0.967 0.999 0.073 0.999 0.999 0.997 0.997]\n",
      "\n",
      "📌 Фінальна модель LightGBM навчена на всьому датасеті та збережена.\n",
      "Артефакти:\n",
      " - ..\\models\\best_model_lgb.pkl\n",
      " - ..\\models\\scaler.pkl\n"
     ]
    }
   ],
   "source": [
    "# 6. Перевірка прогнозу\n",
    "sample_pred = model.predict(X_scaled[:10])\n",
    "sample_proba = model.predict_proba(X_scaled[:10])[:, 1]\n",
    "print(\"\\nПриклад прогнозів:\", sample_pred)\n",
    "print(\"Ймовірності:\", np.round(sample_proba, 3))\n",
    "\n",
    "print(\"\\n📌 Фінальна модель LightGBM навчена на всьому датасеті та збережена.\")\n",
    "print(f\"Артефакти:\\n - {model_path}\\n - {scaler_path}\")"
   ]
  }
 ],
 "metadata": {
  "kernelspec": {
   "display_name": "Python 3 (ipykernel)",
   "language": "python",
   "name": "python3"
  },
  "language_info": {
   "codemirror_mode": {
    "name": "ipython",
    "version": 3
   },
   "file_extension": ".py",
   "mimetype": "text/x-python",
   "name": "python",
   "nbconvert_exporter": "python",
   "pygments_lexer": "ipython3",
   "version": "3.12.3"
  }
 },
 "nbformat": 4,
 "nbformat_minor": 5
}
