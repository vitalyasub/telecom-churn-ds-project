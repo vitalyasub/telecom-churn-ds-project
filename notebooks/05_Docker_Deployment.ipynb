{
 "cells": [
  {
   "cell_type": "markdown",
   "id": "0b8da47c",
   "metadata": {},
   "source": [
    "# 🐳 05_Docker_Deployment — Контейнеризація проєкту\n",
    "**Project:** Прогнозування Відтоку Клієнтів  \n",
    "**Author:** Natalia Kalashnikova  \n",
    "**Team Lead:** Vitalii Subbotin  \n",
    "**Date:** 2025-10-09\n",
    "---"
   ]
  },
  {
   "cell_type": "markdown",
   "id": "0847ba29",
   "metadata": {},
   "source": [
    "## 🎯 Мета\n",
    "- Створити Dockerfile для контейнеризації застосунку  \n",
    "- Налаштувати `docker-compose.yml` для зручного розгортання  \n",
    "- Перевірити запуск моделі у контейнері  "
   ]
  },
  {
   "cell_type": "markdown",
   "id": "4099d1b7",
   "metadata": {},
   "source": [
    "## 📁 Структура проєкту\n",
    "```\n",
    "telecom-churn-ds-project/\n",
    "├── data/\n",
    "├── notebooks/\n",
    "├── app/\n",
    "│   └── model.pkl\n",
    "├── docker/\n",
    "│   ├── Dockerfile\n",
    "│   └── docker-compose.yml\n",
    "├── requirements.txt\n",
    "└── README.md\n",
    "```"
   ]
  },
  {
   "cell_type": "markdown",
   "id": "1cc56ab0",
   "metadata": {},
   "source": [
    "## 🐍 1. Dockerfile\n",
    "\n",
    "```Dockerfile\n",
    "# Використовуємо офіційний Python образ\n",
    "FROM python:3.10-slim\n",
    "\n",
    "# Встановлюємо робочу директорію\n",
    "WORKDIR /app\n",
    "\n",
    "# Копіюємо файли у контейнер\n",
    "COPY requirements.txt ./\n",
    "RUN pip install --no-cache-dir -r requirements.txt\n",
    "\n",
    "# Копіюємо решту коду\n",
    "COPY . .\n",
    "\n",
    "# Відкриваємо порт для Streamlit\n",
    "EXPOSE 8501\n",
    "\n",
    "# Команда для запуску Streamlit\n",
    "CMD [\"streamlit\", \"run\", \"app/app.py\", \"--server.port=8501\", \"--server.address=0.0.0.0\"]\n",
    "```"
   ]
  },
  {
   "cell_type": "markdown",
   "id": "ac50e6b6",
   "metadata": {},
   "source": [
    "## ⚙️ 2. docker-compose.yml\n",
    "\n",
    "```yaml\n",
    "version: \"3.9\"\n",
    "\n",
    "services:\n",
    "  churn_app:\n",
    "    build: .\n",
    "    container_name: churn_prediction_app\n",
    "    ports:\n",
    "      - \"8501:8501\"\n",
    "    volumes:\n",
    "      - .:/app\n",
    "    restart: unless-stopped\n",
    "```\n"
   ]
  },
  {
   "cell_type": "markdown",
   "id": "6654e783",
   "metadata": {},
   "source": [
    "## 🧱 3. Основні команди Docker\n",
    "\n",
    "### 🔹 Побудова образу\n",
    "```bash\n",
    "docker build -t churn-app .\n",
    "```\n",
    "\n",
    "### 🔹 Запуск контейнера\n",
    "```bash\n",
    "docker run -p 8501:8501 churn-app\n",
    "```\n",
    "\n",
    "### 🔹 Запуск через docker-compose\n",
    "```bash\n",
    "docker-compose up --build\n",
    "```\n",
    "\n",
    "### 🔹 Зупинка контейнера\n",
    "```bash\n",
    "docker-compose down\n",
    "```\n"
   ]
  },
  {
   "cell_type": "markdown",
   "id": "977e8a37",
   "metadata": {},
   "source": [
    "## ✅ Результат\n",
    "Після запуску застосунок буде доступний у браузері за адресою:  \n",
    "👉 **http://localhost:8501**\n",
    "\n",
    "У Streamlit можна вводити дані клієнта і отримувати прогноз відтоку."
   ]
  },
  {
   "cell_type": "markdown",
   "id": "9ca3127a",
   "metadata": {},
   "source": [
    "## 💡 Поради\n",
    "- У файлі `requirements.txt` мають бути всі бібліотеки:  \n",
    "  `pandas`, `numpy`, `scikit-learn`, `xgboost`, `matplotlib`, `seaborn`, `streamlit`  \n",
    "- Якщо модель велика — можна завантажувати `model.pkl` із Google Drive / AWS S3.  \n",
    "- Для продакшену можна додати healthcheck і логування."
   ]
  }
 ],
 "metadata": {
  "language_info": {
   "name": "python"
  }
 },
 "nbformat": 4,
 "nbformat_minor": 5
}
